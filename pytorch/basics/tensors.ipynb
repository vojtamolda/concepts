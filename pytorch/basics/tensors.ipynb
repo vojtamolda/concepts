{
 "cells": [
  {
   "cell_type": "code",
   "execution_count": 26,
   "metadata": {
    "collapsed": true
   },
   "outputs": [],
   "source": [
    "import torch\n",
    "import numpy as np"
   ]
  },
  {
   "cell_type": "code",
   "execution_count": 4,
   "metadata": {},
   "outputs": [
    {
     "data": {
      "text/plain": [
       "\n1.00000e-10 *\n  0.0000  4.6566 -0.1637\n  0.0000  0.0000  0.0000\n  0.0000  0.0000  0.0000\n  0.0000  0.0000  0.0000\n  0.0000  4.6566 -0.2254\n[torch.FloatTensor of size 5x3]"
      ]
     },
     "execution_count": 4,
     "metadata": {},
     "output_type": "execute_result"
    }
   ],
   "source": [
    "x = torch.Tensor(5, 3)\n",
    "x"
   ]
  },
  {
   "cell_type": "code",
   "execution_count": 8,
   "metadata": {},
   "outputs": [
    {
     "name": "stdout",
     "output_type": "stream",
     "text": [
      "\n 0.8240  0.0440  0.8441\n 0.7774  0.4168  0.7816\n 0.7721  0.0529  0.7786\n 0.8124  0.9713  0.4248\n 0.3582  0.4480  0.5477\n[torch.FloatTensor of size 5x3]\n\ntorch.Size([5, 3])\n"
     ]
    }
   ],
   "source": [
    "x = torch.rand(5, 3)\n",
    "print(x)\n",
    "print(x.size())"
   ]
  },
  {
   "cell_type": "heading",
   "metadata": {},
   "level": 2,
   "source": [
    "Operations"
   ]
  },
  {
   "cell_type": "code",
   "execution_count": 10,
   "metadata": {},
   "outputs": [
    {
     "name": "stdout",
     "output_type": "stream",
     "text": [
      "\n 1.2671  0.7885  1.1647\n 1.0475  0.5730  1.0655\n 1.5316  0.7459  1.1531\n 1.1859  1.0373  0.8764\n 0.4362  0.4561  0.6918\n[torch.FloatTensor of size 5x3]\n\n\n 1.2671  0.7885  1.1647\n 1.0475  0.5730  1.0655\n 1.5316  0.7459  1.1531\n 1.1859  1.0373  0.8764\n 0.4362  0.4561  0.6918\n[torch.FloatTensor of size 5x3]\n\n"
     ]
    }
   ],
   "source": [
    "y = torch.rand(5, 3)\n",
    "print(x + y)\n",
    "print(torch.add(x, y))"
   ]
  },
  {
   "cell_type": "code",
   "execution_count": 13,
   "metadata": {},
   "outputs": [
    {
     "name": "stdout",
     "output_type": "stream",
     "text": [
      "\n 1.2671  0.7885  1.1647\n 1.0475  0.5730  1.0655\n 1.5316  0.7459  1.1531\n 1.1859  1.0373  0.8764\n 0.4362  0.4561  0.6918\n[torch.FloatTensor of size 5x3]\n\n"
     ]
    }
   ],
   "source": [
    "result = torch.Tensor(5, 3)\n",
    "torch.add(x, y, out=result)\n",
    "print(result)"
   ]
  },
  {
   "cell_type": "code",
   "execution_count": 17,
   "metadata": {},
   "outputs": [
    {
     "name": "stdout",
     "output_type": "stream",
     "text": [
      "\n 3.7391  0.9206  3.6971\n 3.3797  1.8234  3.4103\n 3.8481  0.9048  3.4890\n 3.6232  3.9513  2.1509\n 1.5108  1.8001  2.3350\n[torch.FloatTensor of size 5x3]\n\n"
     ]
    }
   ],
   "source": [
    "y.add_(x) # Any operation that mutates tensor in place is postfixed with _\n",
    "print(y)"
   ]
  },
  {
   "cell_type": "code",
   "execution_count": 19,
   "metadata": {},
   "outputs": [
    {
     "name": "stdout",
     "output_type": "stream",
     "text": [
      "\n 0.0440\n 0.4168\n 0.0529\n 0.9713\n 0.4480\n[torch.FloatTensor of size 5]\n\n"
     ]
    }
   ],
   "source": [
    "print(x[:, 1])"
   ]
  },
  {
   "cell_type": "code",
   "execution_count": 20,
   "metadata": {},
   "outputs": [
    {
     "name": "stdout",
     "output_type": "stream",
     "text": [
      "torch.Size([4, 4]) torch.Size([16]) torch.Size([2, 8])\n"
     ]
    }
   ],
   "source": [
    "x = torch.randn(4, 4)\n",
    "y = x.view(16)\n",
    "z = x.view(-1, 8)  # the size -1 is inferred from other dimensions\n",
    "print(x.size(), y.size(), z.size())"
   ]
  },
  {
   "cell_type": "code",
   "execution_count": 27,
   "metadata": {},
   "outputs": [
    {
     "name": "stdout",
     "output_type": "stream",
     "text": [
      "\n 1\n 1\n 1\n 1\n 1\n[torch.FloatTensor of size 5]\n\n\n 1\n 1\n 1\n 1\n 1\n[torch.FloatTensor of size 5]\n [1. 1. 1. 1. 1.]\n\n 2\n 2\n 2\n 2\n 2\n[torch.FloatTensor of size 5]\n [2. 2. 2. 2. 2.]\n"
     ]
    }
   ],
   "source": [
    "a = torch.ones(5)\n",
    "print(a)\n",
    "b = a.numpy()\n",
    "print(a, b)\n",
    "a.add_(1)\n",
    "print(a, b)"
   ]
  },
  {
   "cell_type": "code",
   "execution_count": 29,
   "metadata": {},
   "outputs": [
    {
     "name": "stdout",
     "output_type": "stream",
     "text": [
      "[2. 2. 2. 2. 2.] \n 2\n 2\n 2\n 2\n 2\n[torch.DoubleTensor of size 5]\n\n"
     ]
    }
   ],
   "source": [
    "a = np.ones(5)\n",
    "b = torch.from_numpy(a)\n",
    "np.add(a, 1, out=a)\n",
    "print(a, b)"
   ]
  },
  {
   "cell_type": "code",
   "execution_count": 31,
   "metadata": {},
   "outputs": [],
   "source": [
    "if torch.cuda.is_available():\n",
    "    x = x.cuda()\n",
    "    y = y.cuda()\n",
    "    x + y"
   ]
  }
 ],
 "metadata": {
  "kernelspec": {
   "display_name": "Python 2",
   "language": "python",
   "name": "python2"
  },
  "language_info": {
   "codemirror_mode": {
    "name": "ipython",
    "version": 2
   },
   "file_extension": ".py",
   "mimetype": "text/x-python",
   "name": "python",
   "nbconvert_exporter": "python",
   "pygments_lexer": "ipython2",
   "version": "2.7.6"
  }
 },
 "nbformat": 4,
 "nbformat_minor": 0
}
